{
  "nbformat": 4,
  "nbformat_minor": 0,
  "metadata": {
    "colab": {
      "provenance": []
    },
    "kernelspec": {
      "name": "python3",
      "display_name": "Python 3"
    },
    "language_info": {
      "name": "python"
    }
  },
  "cells": [
    {
      "cell_type": "code",
      "execution_count": null,
      "metadata": {
        "id": "krpU8F05zTui"
      },
      "outputs": [],
      "source": [
        "import numpy as np"
      ]
    },
    {
      "cell_type": "code",
      "source": [
        "# Sigmoid and its derivative\n",
        "def sigmoid(x):\n",
        "  return 1/(1+np.exp(-x))\n",
        "\n",
        "def sigmoid_deriv(x):\n",
        "  sx = sigmoid(x)\n",
        "  return sx* (1-sx)"
      ],
      "metadata": {
        "id": "WPM-MeIXzoyL"
      },
      "execution_count": null,
      "outputs": []
    },
    {
      "cell_type": "code",
      "source": [
        "# Input and Target\n",
        "X = np.array([[0.5, 0.9]])\n",
        "y_true = np.array([[1]])"
      ],
      "metadata": {
        "id": "CZ9O2QdL0SnH"
      },
      "execution_count": null,
      "outputs": []
    },
    {
      "cell_type": "code",
      "source": [
        "print(f\"The shape of X is {X.shape}\")\n",
        "print(f\"The shape of y_true is {y_true.shape}\")"
      ],
      "metadata": {
        "colab": {
          "base_uri": "https://localhost:8080/"
        },
        "id": "FMasjS3O0a7G",
        "outputId": "88bc81f3-b619-419e-b242-4a698221ba39"
      },
      "execution_count": null,
      "outputs": [
        {
          "output_type": "stream",
          "name": "stdout",
          "text": [
            "The shape of X is (1, 2)\n",
            "The shape of y_true is (1, 1)\n"
          ]
        }
      ]
    },
    {
      "cell_type": "code",
      "source": [
        "# Weights and biases\n",
        "np.random.seed(42)\n",
        "w1 = np.random.rand(2,2)\n",
        "b1 = np.zeros((1,2))\n",
        "\n",
        "w2 = np.random.rand(2,1)\n",
        "b2 = np.zeros((1,1))\n"
      ],
      "metadata": {
        "id": "3Mzj3ZbW0nO-"
      },
      "execution_count": null,
      "outputs": []
    },
    {
      "cell_type": "code",
      "source": [
        "#Training Settings\n",
        "lr = 0.1\n",
        "epochs = 1000"
      ],
      "metadata": {
        "id": "XL7mbumS1XPr"
      },
      "execution_count": null,
      "outputs": []
    },
    {
      "cell_type": "code",
      "source": [
        "for epoch in range(epochs):\n",
        "  # Forward propagation\n",
        "  z1 = np.dot(X , w1) + b1\n",
        "  a1 = sigmoid(z1)\n",
        "\n",
        "  z2 = np.dot(a1, w2) + b2\n",
        "  y_pred = sigmoid(z2)\n",
        "\n",
        "  # Loss\n",
        "  loss = np.mean((y_true-y_pred)**2)\n",
        "\n",
        "  # Backpropagation\n",
        "  d_loss_y_pred = 2* (y_pred-y_true)\n",
        "  d_y_pred_z2 = sigmoid_deriv(z2)\n",
        "  d_z2_w2 = a1.T\n",
        "\n",
        "  dw2 = np.dot(d_z2_w2,d_loss_y_pred*d_y_pred_z2)\n",
        "  db2 = d_loss_y_pred * d_y_pred_z2\n",
        "\n",
        "  d_z2_a1 = w2\n",
        "  d_a1_z1 = sigmoid_deriv(z1)\n",
        "  d_z1_w1 = X.T\n",
        "\n",
        "  dw1 = np.dot(d_z1_w1, (d_loss_y_pred * d_y_pred_z2 @ d_z2_a1.T)* d_a1_z1)\n",
        "  db1 = (d_loss_y_pred * d_y_pred_z2 @ d_z2_a1.T)* d_a1_z1\n",
        "\n",
        "  #Update Wieghts\n",
        "  w2 -= lr * dw2\n",
        "  b2 -= lr * db2\n",
        "\n",
        "  w1 -= lr * dw1\n",
        "  b1 -= lr * db1\n",
        "\n",
        "  if epoch% 100==0:\n",
        "    print(f\"Epoch {epoch}\")\n",
        "    print(f\"Actual (y_true): {y_true[0][0]:.4f}\")\n",
        "    print(f\"Predicted (y_pred): {y_pred[0][0]:.4f}\")\n",
        "    print(f\"Loss: {loss:.6f} \\n\")"
      ],
      "metadata": {
        "colab": {
          "base_uri": "https://localhost:8080/"
        },
        "id": "-yHn8AD11bTQ",
        "outputId": "b474c93c-40fd-4684-8e6e-293af41a97b2"
      },
      "execution_count": null,
      "outputs": [
        {
          "output_type": "stream",
          "name": "stdout",
          "text": [
            "Epoch 0\n",
            "Actual (y_true): 1.0000\n",
            "Predicted (y_pred): 0.5557\n",
            "Loss: 0.197421 \n",
            "\n",
            "Epoch 100\n",
            "Actual (y_true): 1.0000\n",
            "Predicted (y_pred): 0.8688\n",
            "Loss: 0.017226 \n",
            "\n",
            "Epoch 200\n",
            "Actual (y_true): 1.0000\n",
            "Predicted (y_pred): 0.9121\n",
            "Loss: 0.007720 \n",
            "\n",
            "Epoch 300\n",
            "Actual (y_true): 1.0000\n",
            "Predicted (y_pred): 0.9305\n",
            "Loss: 0.004828 \n",
            "\n",
            "Epoch 400\n",
            "Actual (y_true): 1.0000\n",
            "Predicted (y_pred): 0.9411\n",
            "Loss: 0.003471 \n",
            "\n",
            "Epoch 500\n",
            "Actual (y_true): 1.0000\n",
            "Predicted (y_pred): 0.9481\n",
            "Loss: 0.002692 \n",
            "\n",
            "Epoch 600\n",
            "Actual (y_true): 1.0000\n",
            "Predicted (y_pred): 0.9532\n",
            "Loss: 0.002191 \n",
            "\n",
            "Epoch 700\n",
            "Actual (y_true): 1.0000\n",
            "Predicted (y_pred): 0.9571\n",
            "Loss: 0.001842 \n",
            "\n",
            "Epoch 800\n",
            "Actual (y_true): 1.0000\n",
            "Predicted (y_pred): 0.9602\n",
            "Loss: 0.001587 \n",
            "\n",
            "Epoch 900\n",
            "Actual (y_true): 1.0000\n",
            "Predicted (y_pred): 0.9627\n",
            "Loss: 0.001392 \n",
            "\n"
          ]
        }
      ]
    },
    {
      "cell_type": "code",
      "source": [],
      "metadata": {
        "id": "L25svrSi4eff"
      },
      "execution_count": null,
      "outputs": []
    }
  ]
}